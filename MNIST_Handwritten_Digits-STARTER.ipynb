{
 "cells": [
  {
   "cell_type": "markdown",
   "metadata": {},
   "source": [
    "# Introduction\n",
    "\n",
    "In this project, you will build a neural network of your own design to evaluate the MNIST dataset.\n",
    "\n",
    "Some of the benchmark results on MNIST include can be found [on Yann LeCun's page](http://yann.lecun.com/exdb/mnist/) and include:\n",
    "\n",
    "88% [Lecun et al., 1998](http://yann.lecun.com/exdb/publis/pdf/lecun-98.pdf)\n",
    "95.3% [Lecun et al., 1998](http://yann.lecun.com/exdb/publis/pdf/lecun-98.pdf)\n",
    "99.65% [Ciresan et al., 2011](http://people.idsia.ch/~juergen/ijcai2011.pdf)\n",
    "\n",
    "MNIST is a great dataset for sanity checking your models, since the accuracy levels achieved by large convolutional neural networks and small linear models are both quite high. This makes it important to be familiar with the data.\n",
    "\n",
    "## Imports"
   ]
  },
  {
   "cell_type": "code",
   "execution_count": 1,
   "metadata": {},
   "outputs": [],
   "source": [
    "## This cell contains the essential imports you will need – DO NOT CHANGE THE CONTENTS! ##\n",
    "import torch\n",
    "import torch.nn as nn\n",
    "import torch.nn.functional as F\n",
    "import torch.optim as optim\n",
    "import torchvision\n",
    "import torchvision.transforms as transforms\n",
    "import matplotlib.pyplot as plt\n",
    "import numpy as np"
   ]
  },
  {
   "cell_type": "code",
   "execution_count": 2,
   "metadata": {},
   "outputs": [
    {
     "data": {
      "text/plain": [
       "device(type='cpu')"
      ]
     },
     "execution_count": 2,
     "metadata": {},
     "output_type": "execute_result"
    }
   ],
   "source": [
    "device = torch.device('cuda' if torch.cuda.is_available() else 'cpu')\n",
    "device"
   ]
  },
  {
   "cell_type": "code",
   "execution_count": 3,
   "metadata": {},
   "outputs": [
    {
     "name": "stdout",
     "output_type": "stream",
     "text": [
      "Defaulting to user installation because normal site-packages is not writeable\n",
      "Requirement already satisfied: ipywidgets in /root/.local/lib/python3.7/site-packages (8.1.0)\n",
      "Requirement already satisfied: jupyterlab-widgets~=3.0.7 in /root/.local/lib/python3.7/site-packages (from ipywidgets) (3.0.8)\n",
      "Requirement already satisfied: widgetsnbextension~=4.0.7 in /root/.local/lib/python3.7/site-packages (from ipywidgets) (4.0.8)\n",
      "Requirement already satisfied: ipython>=6.1.0 in /opt/conda/lib/python3.7/site-packages (from ipywidgets) (7.13.0)\n",
      "Requirement already satisfied: comm>=0.1.3 in /root/.local/lib/python3.7/site-packages (from ipywidgets) (0.1.3)\n",
      "Requirement already satisfied: traitlets>=4.3.1 in /opt/conda/lib/python3.7/site-packages (from ipywidgets) (4.3.3)\n",
      "Requirement already satisfied: decorator in /opt/conda/lib/python3.7/site-packages (from ipython>=6.1.0->ipywidgets) (4.4.2)\n",
      "Requirement already satisfied: pygments in /opt/conda/lib/python3.7/site-packages (from ipython>=6.1.0->ipywidgets) (2.5.2)\n",
      "Requirement already satisfied: pexpect; sys_platform != \"win32\" in /opt/conda/lib/python3.7/site-packages (from ipython>=6.1.0->ipywidgets) (4.8.0)\n",
      "Requirement already satisfied: jedi>=0.10 in /opt/conda/lib/python3.7/site-packages (from ipython>=6.1.0->ipywidgets) (0.16.0)\n",
      "Requirement already satisfied: setuptools>=18.5 in /opt/conda/lib/python3.7/site-packages (from ipython>=6.1.0->ipywidgets) (45.2.0.post20200209)\n",
      "Requirement already satisfied: prompt-toolkit!=3.0.0,!=3.0.1,<3.1.0,>=2.0.0 in /opt/conda/lib/python3.7/site-packages (from ipython>=6.1.0->ipywidgets) (3.0.3)\n",
      "Requirement already satisfied: pickleshare in /opt/conda/lib/python3.7/site-packages (from ipython>=6.1.0->ipywidgets) (0.7.5)\n",
      "Requirement already satisfied: backcall in /opt/conda/lib/python3.7/site-packages (from ipython>=6.1.0->ipywidgets) (0.1.0)\n",
      "Requirement already satisfied: six in /opt/conda/lib/python3.7/site-packages (from traitlets>=4.3.1->ipywidgets) (1.16.0)\n",
      "Requirement already satisfied: ipython-genutils in /opt/conda/lib/python3.7/site-packages (from traitlets>=4.3.1->ipywidgets) (0.2.0)\n",
      "Requirement already satisfied: ptyprocess>=0.5 in /opt/conda/lib/python3.7/site-packages (from pexpect; sys_platform != \"win32\"->ipython>=6.1.0->ipywidgets) (0.6.0)\n",
      "Requirement already satisfied: parso>=0.5.2 in /opt/conda/lib/python3.7/site-packages (from jedi>=0.10->ipython>=6.1.0->ipywidgets) (0.6.1)\n",
      "Requirement already satisfied: wcwidth in /opt/conda/lib/python3.7/site-packages (from prompt-toolkit!=3.0.0,!=3.0.1,<3.1.0,>=2.0.0->ipython>=6.1.0->ipywidgets) (0.1.8)\n",
      "Note: you may need to restart the kernel to use updated packages.\n"
     ]
    }
   ],
   "source": [
    "pip install ipywidgets"
   ]
  },
  {
   "cell_type": "markdown",
   "metadata": {},
   "source": [
    "## Load the Dataset\n",
    "\n",
    "Specify your transforms as a list if you intend to .\n",
    "The transforms module is already loaded as `transforms`.\n",
    "\n",
    "MNIST is fortunately included in the torchvision module.\n",
    "Then, you can create your dataset using the `MNIST` object from `torchvision.datasets` ([the documentation is available here](https://pytorch.org/vision/stable/datasets.html#mnist)).\n",
    "Make sure to specify `download=True`! \n",
    "\n",
    "Once your dataset is created, you'll also need to define a `DataLoader` from the `torch.utils.data` module for both the train and the test set."
   ]
  },
  {
   "cell_type": "code",
   "execution_count": 4,
   "metadata": {},
   "outputs": [
    {
     "name": "stdout",
     "output_type": "stream",
     "text": [
      "Downloading http://yann.lecun.com/exdb/mnist/train-images-idx3-ubyte.gz\n",
      "Downloading http://yann.lecun.com/exdb/mnist/train-images-idx3-ubyte.gz to ./data/MNIST/raw/train-images-idx3-ubyte.gz\n"
     ]
    },
    {
     "data": {
      "application/vnd.jupyter.widget-view+json": {
       "model_id": "9595a14061c94d3a90bccecf66d13ea0",
       "version_major": 2,
       "version_minor": 0
      },
      "text/plain": [
       "HBox(children=(FloatProgress(value=0.0, max=9912422.0), HTML(value='')))"
      ]
     },
     "metadata": {},
     "output_type": "display_data"
    },
    {
     "name": "stdout",
     "output_type": "stream",
     "text": [
      "\n",
      "Extracting ./data/MNIST/raw/train-images-idx3-ubyte.gz to ./data/MNIST/raw\n",
      "\n",
      "Downloading http://yann.lecun.com/exdb/mnist/train-labels-idx1-ubyte.gz\n",
      "Downloading http://yann.lecun.com/exdb/mnist/train-labels-idx1-ubyte.gz to ./data/MNIST/raw/train-labels-idx1-ubyte.gz\n"
     ]
    },
    {
     "data": {
      "application/vnd.jupyter.widget-view+json": {
       "model_id": "317b5654365249cfba8af49180d51476",
       "version_major": 2,
       "version_minor": 0
      },
      "text/plain": [
       "HBox(children=(FloatProgress(value=0.0, max=28881.0), HTML(value='')))"
      ]
     },
     "metadata": {},
     "output_type": "display_data"
    },
    {
     "name": "stdout",
     "output_type": "stream",
     "text": [
      "\n",
      "Extracting ./data/MNIST/raw/train-labels-idx1-ubyte.gz to ./data/MNIST/raw\n",
      "\n",
      "Downloading http://yann.lecun.com/exdb/mnist/t10k-images-idx3-ubyte.gz\n",
      "Downloading http://yann.lecun.com/exdb/mnist/t10k-images-idx3-ubyte.gz to ./data/MNIST/raw/t10k-images-idx3-ubyte.gz\n"
     ]
    },
    {
     "data": {
      "application/vnd.jupyter.widget-view+json": {
       "model_id": "5e6b8d6f5fd84b9eb60524a6431d108c",
       "version_major": 2,
       "version_minor": 0
      },
      "text/plain": [
       "HBox(children=(FloatProgress(value=0.0, max=1648877.0), HTML(value='')))"
      ]
     },
     "metadata": {},
     "output_type": "display_data"
    },
    {
     "name": "stdout",
     "output_type": "stream",
     "text": [
      "\n",
      "Extracting ./data/MNIST/raw/t10k-images-idx3-ubyte.gz to ./data/MNIST/raw\n",
      "\n",
      "Downloading http://yann.lecun.com/exdb/mnist/t10k-labels-idx1-ubyte.gz\n",
      "Downloading http://yann.lecun.com/exdb/mnist/t10k-labels-idx1-ubyte.gz to ./data/MNIST/raw/t10k-labels-idx1-ubyte.gz\n"
     ]
    },
    {
     "data": {
      "application/vnd.jupyter.widget-view+json": {
       "model_id": "045d5fa7e6134d3a951a2e87a734b3eb",
       "version_major": 2,
       "version_minor": 0
      },
      "text/plain": [
       "HBox(children=(FloatProgress(value=0.0, max=4542.0), HTML(value='')))"
      ]
     },
     "metadata": {},
     "output_type": "display_data"
    },
    {
     "name": "stdout",
     "output_type": "stream",
     "text": [
      "\n",
      "Extracting ./data/MNIST/raw/t10k-labels-idx1-ubyte.gz to ./data/MNIST/raw\n",
      "\n"
     ]
    },
    {
     "name": "stderr",
     "output_type": "stream",
     "text": [
      "/opt/conda/lib/python3.7/site-packages/torchvision/datasets/mnist.py:498: UserWarning: The given NumPy array is not writable, and PyTorch does not support non-writable tensors. This means writing to this tensor will result in undefined behavior. You may want to copy the array to protect its data or make it writable before converting it to a tensor. This type of warning will be suppressed for the rest of this program. (Triggered internally at  ../torch/csrc/utils/tensor_numpy.cpp:178.)\n",
      "  return torch.from_numpy(parsed.astype(m[2], copy=False)).view(*s)\n"
     ]
    }
   ],
   "source": [
    "# Define batch size for data loaders\n",
    "batch_size=32\n",
    "\n",
    "# Transforms\n",
    "transform = transforms.Compose([transforms.ToTensor(),\n",
    "                                     transforms.Normalize((0.1307,),(0.3081,)),])\n",
    "\n",
    "# Training set and define training dataloader\n",
    "train_dataset=torchvision.datasets.MNIST(root='./data',train=True,download=True,transform=transform)\n",
    "\n",
    "# Test set and define test dataloader\n",
    "test_dataset=torchvision.datasets.MNIST(root='./data',train=False,download=True,transform=transform)\n",
    "\n",
    "# Split the training dataset into training and validation sets\n",
    "# We will use 80% for training and 20% for validation\n",
    "train_size = int(0.8 * len(train_dataset))\n",
    "val_size = len(train_dataset) - train_size\n",
    "train_dataset, validation_dataset = torch.utils.data.random_split(train_dataset, [train_size, val_size])\n",
    "\n",
    "#Train dataloader\n",
    "train_loader=torch.utils.data.DataLoader(train_dataset,batch_size=batch_size,shuffle=True)\n",
    "\n",
    "# Test dataloader\n",
    "test_loader = torch.utils.data.DataLoader(test_dataset, batch_size=batch_size, shuffle=False)\n",
    "\n",
    "# Validation dataloader\n",
    "validation_loader = torch.utils.data.DataLoader(validation_dataset, batch_size=batch_size, shuffle=True)\n"
   ]
  },
  {
   "cell_type": "markdown",
   "metadata": {},
   "source": [
    "## Justify your preprocessing\n",
    "\n",
    "In your own words, why did you choose the transforms you chose? If you didn't use any preprocessing steps, why not?"
   ]
  },
  {
   "cell_type": "markdown",
   "metadata": {},
   "source": [
    "1. **Batch_size**: Batch size refers to the number of samples that will be processed by the model in one forward/backward pass. A smaller batch size consumes less memory but may slow down training, while a larger batch size may require more memory but can speed up training. The chosen batch size of 32 is a common value that balances memory efficiency and training speed for many models.\n",
    "\n",
    "2. **Data Transformations**: The transforms.Compose function allows you to chain multiple data transformations together. In this case, two transformations are applied to the data:\n",
    "\n",
    "**transforms.ToTensor()**: Converts the data from PIL images (in the range [0, 255]) to PyTorch tensors (in the range [0, 1]).\n",
    "\n",
    "**transforms.Normalize((0.1307,), (0.3081,))**: Applies mean and standard deviation normalization to the tensor data. These specific values (mean=0.1307 and std=0.3081) are the mean and standard deviation of the MNIST dataset and are commonly used for normalization. \n",
    "\n",
    "2. **Normalize()**: Normalization is a common preprocessing step used to scale the pixel values of images. In this case, the transform applies mean and standard deviation normalization. The reason for choosing this normalization is that the mean and standard deviation values (0.1307 and 0.3081, respectively) are specific to the MNIST dataset. Normalization helps in bringing all pixel values within a similar range, which can lead to faster convergence during training and more stable training behavior. It also helps prevent issues related to exploding or vanishing gradients.\n",
    "\n",
    "3. **(0.1307,)** and **(0.3081,)**: The first tuple contains the mean value (0.1307) and the second tuple contains the standard deviation value (0.3081). These values have been precomputed for the MNIST dataset. By subtracting the mean and dividing by the standard deviation for each pixel, the pixel values will be approximately centered around zero with a standard deviation of one. This normalization ensures that the pixel values are roughly in the range [-1, 1], which is desirable for many neural network architectures.\n",
    "\n",
    "4. **Compose()**: Using `transforms.Compose`, you can combine multiple transformations into a single transform. This allows you to apply a sequence of transformations to the input data conveniently and consistently.\n",
    "\n",
    "\n",
    "\n",
    "### Training Set and Training DataLoader:\n",
    "\n",
    "**train_dataset**: Loads the training set of the MNIST dataset and applies the specified transformations using torchvision's datasets.MNIST class.\n",
    "\n",
    "**train_loader**: Creates a data loader for the training set. The data loader allows efficient batching, shuffling, and parallel data loading during training. It will shuffle the data (shuffle=True) to introduce randomness during training and avoid overfitting.\n",
    "\n",
    "### Test Set and Test DataLoader:\n",
    "\n",
    "**test_dataset**: Loads the test set of the MNIST dataset and applies the same transformations as for the training set.\n",
    "\n",
    "**test_loader**: Creates a data loader for the test set. The test loader does not shuffle the data (shuffle=False) as we want to evaluate the model's performance on the test set without introducing randomness.\n",
    "Validation Set and Validation DataLoader:\n",
    "\n",
    "The training dataset is split into training and validation sets using torch.utils.data.random_split.\n",
    "\n",
    "**train_dataset**: Now contains the training set (80% of the original training data).\n",
    "\n",
    "**validation_dataset**: Contains the validation set (20% of the original training data).\n",
    "\n",
    "**validation_loader**: Creates a data loader for the validation set. Similar to the training loader, it shuffles the data (shuffle=True) to introduce randomness during validation.\n",
    "\n",
    "In summary, the given transform is suitable for preprocessing the MNIST dataset. It converts the images to tensors and applies normalization, which helps in preparing the data for efficient and stable training of neural network models. It is particularly effective for grayscale images like those in the MNIST dataset."
   ]
  },
  {
   "cell_type": "markdown",
   "metadata": {},
   "source": [
    "## Explore the Dataset\n",
    "Using matplotlib, numpy, and torch, explore the dimensions of your data.\n",
    "\n",
    "You can view images using the `show5` function defined below – it takes a data loader as an argument.\n",
    "Remember that normalized images will look really weird to you! You may want to try changing your transforms to view images.\n",
    "Typically using no transforms other than `toTensor()` works well for viewing – but not as well for training your network.\n",
    "If `show5` doesn't work, go back and check your code for creating your data loaders and your training/test sets."
   ]
  },
  {
   "cell_type": "code",
   "execution_count": 6,
   "metadata": {},
   "outputs": [
    {
     "data": {
      "text/plain": [
       "<torch.utils.data.dataset.Subset at 0x7fa7370b52d0>"
      ]
     },
     "execution_count": 6,
     "metadata": {},
     "output_type": "execute_result"
    }
   ],
   "source": [
    "train_dataset"
   ]
  },
  {
   "cell_type": "code",
   "execution_count": 7,
   "metadata": {},
   "outputs": [],
   "source": [
    "## This cell contains a function for showing 5 images from a dataloader – DO NOT CHANGE THE CONTENTS! ##\n",
    "def show5(img_loader):\n",
    "    dataiter = iter(img_loader)\n",
    "    \n",
    "    batch = next(dataiter)\n",
    "    labels = batch[1][0:5]\n",
    "    images = batch[0][0:5]\n",
    "    for i in range(5):\n",
    "        print(int(labels[i].detach()))\n",
    "    \n",
    "        image = images[i].numpy()\n",
    "        plt.imshow(image.T.squeeze().T)\n",
    "        plt.show()"
   ]
  },
  {
   "cell_type": "code",
   "execution_count": 8,
   "metadata": {
    "scrolled": false
   },
   "outputs": [
    {
     "name": "stdout",
     "output_type": "stream",
     "text": [
      "Train DataLoader Normalized\n",
      "8\n"
     ]
    },
    {
     "data": {
      "image/png": "[encoded data removed]",
      "text/plain": [
       "<Figure size 432x288 with 1 Axes>"
      ]
     },
     "metadata": {
      "needs_background": "light"
     },
     "output_type": "display_data"
    },
    {
     "name": "stdout",
     "output_type": "stream",
     "text": [
      "4\n"
     ]
    },
    {
     "data": {
      "image/png": "[encoded data removed]",
      "text/plain": [
       "<Figure size 432x288 with 1 Axes>"
      ]
     },
     "metadata": {
      "needs_background": "light"
     },
     "output_type": "display_data"
    },
    {
     "name": "stdout",
     "output_type": "stream",
     "text": [
      "7\n"
     ]
    },
    {
     "data": {
      "image/png": "[encoded data removed]",
      "text/plain": [
       "<Figure size 432x288 with 1 Axes>"
      ]
     },
     "metadata": {
      "needs_background": "light"
     },
     "output_type": "display_data"
    },
    {
     "name": "stdout",
     "output_type": "stream",
     "text": [
      "1\n"
     ]
    },
    {
     "data": {
      "image/png": "[encoded data removed]",
      "text/plain": [
       "<Figure size 432x288 with 1 Axes>"
      ]
     },
     "metadata": {
      "needs_background": "light"
     },
     "output_type": "display_data"
    },
    {
     "name": "stdout",
     "output_type": "stream",
     "text": [
      "7\n"
     ]
    },
    {
     "data": {
      "image/png": "[encoded data removed]",
      "text/plain": [
       "<Figure size 432x288 with 1 Axes>"
      ]
     },
     "metadata": {
      "needs_background": "light"
     },
     "output_type": "display_data"
    },
    {
     "name": "stdout",
     "output_type": "stream",
     "text": [
      "Test DataLoader Normalized\n",
      "7\n"
     ]
    },
    {
     "data": {
      "image/png": "[encoded data removed]",
      "text/plain": [
       "<Figure size 432x288 with 1 Axes>"
      ]
     },
     "metadata": {
      "needs_background": "light"
     },
     "output_type": "display_data"
    },
    {
     "name": "stdout",
     "output_type": "stream",
     "text": [
      "2\n"
     ]
    },
    {
     "data": {
      "image/png": "[encoded data removed]",
      "text/plain": [
       "<Figure size 432x288 with 1 Axes>"
      ]
     },
     "metadata": {
      "needs_background": "light"
     },
     "output_type": "display_data"
    },
    {
     "name": "stdout",
     "output_type": "stream",
     "text": [
      "1\n"
     ]
    },
    {
     "data": {
      "image/png": "[encoded data removed]",
      "text/plain": [
       "<Figure size 432x288 with 1 Axes>"
      ]
     },
     "metadata": {
      "needs_background": "light"
     },
     "output_type": "display_data"
    },
    {
     "name": "stdout",
     "output_type": "stream",
     "text": [
      "0\n"
     ]
    },
    {
     "data": {
      "image/png": "[encoded data removed]",
      "text/plain": [
       "<Figure size 432x288 with 1 Axes>"
      ]
     },
     "metadata": {
      "needs_background": "light"
     },
     "output_type": "display_data"
    },
    {
     "name": "stdout",
     "output_type": "stream",
     "text": [
      "4\n"
     ]
    },
    {
     "data": {
      "image/png": "[encoded data removed]",
      "text/plain": [
       "<Figure size 432x288 with 1 Axes>"
      ]
     },
     "metadata": {
      "needs_background": "light"
     },
     "output_type": "display_data"
    }
   ],
   "source": [
    "# Explore data\n",
    "print('Train DataLoader Normalized')\n",
    "show5(train_loader)\n",
    "print('Test DataLoader Normalized')\n",
    "show5(test_loader)"
   ]
  },
  {
   "cell_type": "markdown",
   "metadata": {},
   "source": [
    "## Build your Neural Network\n",
    "Using the layers in `torch.nn` (which has been imported as `nn`) and the `torch.nn.functional` module (imported as `F`), construct a neural network based on the parameters of the dataset.\n",
    "Use any architecture you like. \n",
    "\n",
    "*Note*: If you did not flatten your tensors in your transforms or as part of your preprocessing and you are using only `Linear` layers, make sure to use the `Flatten` layer in your network!"
   ]
  },
  {
   "cell_type": "code",
   "execution_count": 9,
   "metadata": {},
   "outputs": [
    {
     "data": {
      "text/plain": [
       "Net(\n",
       "  (Convolutional_layers): Sequential(\n",
       "    (0): Conv2d(1, 8, kernel_size=(3, 3), stride=(1, 1), padding=(1, 1))\n",
       "    (1): Dropout2d(p=0.4, inplace=False)\n",
       "    (2): MaxPool2d(kernel_size=2, stride=2, padding=0, dilation=1, ceil_mode=False)\n",
       "    (3): Conv2d(8, 16, kernel_size=(3, 3), stride=(1, 1), padding=(1, 1))\n",
       "    (4): Dropout2d(p=0.2, inplace=False)\n",
       "  )\n",
       "  (Linear_layers): Sequential(\n",
       "    (0): Linear(in_features=3136, out_features=784, bias=True)\n",
       "    (1): ReLU()\n",
       "    (2): Dropout(p=0.6, inplace=False)\n",
       "    (3): Linear(in_features=784, out_features=196, bias=True)\n",
       "    (4): ReLU()\n",
       "    (5): Dropout(p=0.3, inplace=False)\n",
       "    (6): Linear(in_features=196, out_features=49, bias=True)\n",
       "    (7): ReLU()\n",
       "    (8): Dropout(p=0.15, inplace=False)\n",
       "    (9): Linear(in_features=49, out_features=10, bias=True)\n",
       "  )\n",
       ")"
      ]
     },
     "execution_count": 9,
     "metadata": {},
     "output_type": "execute_result"
    }
   ],
   "source": [
    "# Class for the neural network\n",
    "class Net(nn.Module):\n",
    "    def __init__(self):\n",
    "        super().__init__()\n",
    "        # Convolutional layers: input channels = 1 (grayscale image), output channels = 8, kernel size = 3x3, padding = 1, stride = 1\n",
    "        # Dropout2d with a dropout rate of 40% to prevent overfitting\n",
    "        # MaxPool2d with a kernel size = 2x2 and stride = 2 to downsample the feature maps\n",
    "        # Second Convolutional layer: input channels = 8, output channels = 16, kernel size = 3x3, padding = 1, stride = 1\n",
    "        # Dropout2d with a dropout rate of 20%\n",
    "        self.Convolutional_layers = nn.Sequential(\n",
    "            nn.Conv2d(in_channels=1, out_channels=8, kernel_size=3, padding=1, stride=1),\n",
    "            nn.Dropout2d(0.4),\n",
    "            nn.MaxPool2d(kernel_size=2, stride=2),\n",
    "            nn.Conv2d(in_channels=8, out_channels=16, kernel_size=3, padding=1, stride=1),\n",
    "            nn.Dropout2d(0.2)\n",
    "        )\n",
    "        \n",
    "        # Linear layers: The output of the convolutional layers will be flattened to a 1D vector and fed into these fully connected layers\n",
    "        self.Linear_layers = nn.Sequential(\n",
    "            nn.Linear(16 * 14 * 14, 784),    # First linear layer: input size = 16 * 14 * 14 (output channels * height * width of the feature maps), output size = 784\n",
    "            nn.ReLU(),            # ReLU activation function to introduce non-linearity\n",
    "            nn.Dropout(0.6),      # Dropout with a dropout rate of 60% to prevent overfitting\n",
    "            nn.Linear(784, 196),  # Second linear layer: input size = 784, output size = 196\n",
    "            nn.ReLU(),            # ReLU activation function\n",
    "            nn.Dropout(0.3),      # Dropout with a dropout rate of 30%\n",
    "            nn.Linear(196, 49),   # Third linear layer: input size = 196, output size = 49\n",
    "            nn.ReLU(),            # ReLU activation function\n",
    "            nn.Dropout(0.15),     # Dropout with a dropout rate of 15%\n",
    "            nn.Linear(49, 10)     # Fourth linear layer (output layer): input size = 49, output size = 10 (number of classes)\n",
    "        )\n",
    "\n",
    "    def forward(self, x):\n",
    "        # Forward pass through the network\n",
    "        x = self.Convolutional_layers(x)  # Pass through the convolutional layers\n",
    "        x = torch.flatten(x, 1)  # Flatten the tensor into a 1D vector (except for the batch dimension)\n",
    "        x = self.Linear_layers(x)  # Pass through the linear layers\n",
    "        return x\n",
    "\n",
    "# Instantiate the net\n",
    "net = Net()\n",
    "net.to(device)  # Move the model to device for computation\n"
   ]
  },
  {
   "cell_type": "markdown",
   "metadata": {},
   "source": [
    "Specify a loss function and an optimizer, and instantiate the model.\n",
    "\n",
    "If you use a less common loss function, please note why you chose that loss function in a comment."
   ]
  },
  {
   "cell_type": "code",
   "execution_count": 10,
   "metadata": {},
   "outputs": [
    {
     "data": {
      "text/plain": [
       "CrossEntropyLoss()"
      ]
     },
     "execution_count": 10,
     "metadata": {},
     "output_type": "execute_result"
    }
   ],
   "source": [
    "# Optimizer\n",
    "optimizer = optim.Adam(net.parameters(),lr=0.001)\n",
    "\n",
    "# Loss function\n",
    "criterion = nn.CrossEntropyLoss()\n",
    "criterion.to(device)"
   ]
  },
  {
   "cell_type": "markdown",
   "metadata": {},
   "source": [
    "## Running your Neural Network\n",
    "Use whatever method you like to train your neural network, and ensure you record the average loss at each epoch. \n",
    "Don't forget to use `torch.device()` and the `.to()` method for both your model and your data if you are using GPU!\n",
    "\n",
    "If you want to print your loss **during** each epoch, you can use the `enumerate` function and print the loss after a set number of batches. 250 batches works well for most people!"
   ]
  },
  {
   "cell_type": "code",
   "execution_count": 11,
   "metadata": {},
   "outputs": [
    {
     "name": "stdout",
     "output_type": "stream",
     "text": [
      "Epoch: 1/10   Training loss: 0.4691   Validation loss: 0.1588   Validation accuracy: 0.9532  \n",
      "Epoch: 2/10   Training loss: 0.2624   Validation loss: 0.1265   Validation accuracy: 0.9643  \n",
      "Epoch: 3/10   Training loss: 0.2215   Validation loss: 0.1084   Validation accuracy: 0.9679  \n",
      "Epoch: 4/10   Training loss: 0.1945   Validation loss: 0.1027   Validation accuracy: 0.9707  \n",
      "Epoch: 5/10   Training loss: 0.1802   Validation loss: 0.0982   Validation accuracy: 0.9736  \n",
      "Epoch: 6/10   Training loss: 0.1665   Validation loss: 0.0962   Validation accuracy: 0.9737  \n",
      "Epoch: 7/10   Training loss: 0.1547   Validation loss: 0.0843   Validation accuracy: 0.9762  \n",
      "Epoch: 8/10   Training loss: 0.1512   Validation loss: 0.0970   Validation accuracy: 0.9756  \n",
      "Epoch: 9/10   Training loss: 0.1416   Validation loss: 0.0865   Validation accuracy: 0.9766  \n",
      "Epoch: 10/10   Training loss: 0.1347   Validation loss: 0.0838   Validation accuracy: 0.9776  \n"
     ]
    }
   ],
   "source": [
    "epochs = 10  # The total number of iterations (epochs)\n",
    "\n",
    "train_losses = []         # List to store training losses for each epoch\n",
    "validation_losses = []    # List to store validation losses for each epoch\n",
    "\n",
    "# Loop through each epoch\n",
    "for epoch in range(epochs):\n",
    "    # Prepare the network for training\n",
    "    net.train()\n",
    "    train_loss = 0.0\n",
    "\n",
    "    # Loop through the training data\n",
    "    for idx, (images, labels) in enumerate(train_loader): \n",
    "        # Send the data to the GPU (if available) for faster computation\n",
    "        images = images.to(device)\n",
    "        labels = labels.to(device)\n",
    "\n",
    "        # Training pass\n",
    "        optimizer.zero_grad()   # Clear accumulated gradients from previous iteration\n",
    "\n",
    "        # Forward pass\n",
    "        output = net(images)    # Feed input images through the neural network\n",
    "        loss = criterion(output, labels)  # Calculate the loss (difference between predicted and actual labels)\n",
    "\n",
    "        # Backward pass (gradient computation)\n",
    "        loss.backward()         # Calculate gradients of the loss with respect to network parameters\n",
    "        optimizer.step()        # Update network parameters using the computed gradients\n",
    "\n",
    "        train_loss += loss.item()  # Accumulate the training loss for this iteration\n",
    "        \n",
    "    # Prepare the network for evaluation (validation)\n",
    "    net.eval() \n",
    "    validation_loss = 0.0\n",
    "    accuracy = 0\n",
    "\n",
    "    # Turn off gradients when performing validation to save memory and speed up computation\n",
    "    with torch.no_grad():\n",
    "        for images, labels in validation_loader:\n",
    "            images = images.to(device)\n",
    "            labels = labels.to(device)\n",
    "\n",
    "            output = net(images)  # Forward pass for validation data\n",
    "            validation_loss += criterion(output, labels)  # Accumulate the validation loss\n",
    "\n",
    "            top_prob, top_class = output.topk(1, dim=1)  # Get the predicted classes\n",
    "            predictions = top_class == labels.view(*top_class.shape)  # Compare predictions with actual labels\n",
    "            accuracy += torch.mean(predictions.type(torch.FloatTensor))  # Calculate the accuracy\n",
    "\n",
    "    # Store the average training loss and validation loss for this epoch\n",
    "    train_losses.append(train_loss / len(train_loader))\n",
    "    validation_losses.append(validation_loss / len(validation_loader))\n",
    "\n",
    "    # Print the results for this epoch\n",
    "    print(\"Epoch: {}/{}  \".format(epoch + 1, epochs),\n",
    "          \"Training loss: {:.4f}  \".format(train_loss / len(train_loader)),\n",
    "          \"Validation loss: {:.4f}  \".format(validation_loss / len(validation_loader)),\n",
    "          \"Validation accuracy: {:.4f}  \".format(accuracy / len(validation_loader)))\n"
   ]
  },
  {
   "cell_type": "markdown",
   "metadata": {},
   "source": [
    "Plot the training loss (and validation loss/accuracy, if recorded)."
   ]
  },
  {
   "cell_type": "code",
   "execution_count": 12,
   "metadata": {},
   "outputs": [
    {
     "data": {
      "image/png": "[encoded data removed]",
      "text/plain": [
       "<Figure size 432x288 with 1 Axes>"
      ]
     },
     "metadata": {
      "needs_background": "light"
     },
     "output_type": "display_data"
    }
   ],
   "source": [
    "# Convert the training and validation losses to PyTorch tensors and move them to the CPU (if they were on the GPU)\n",
    "train_losses = torch.Tensor(train_losses).cpu()\n",
    "validation_losses = torch.Tensor(validation_losses).cpu()\n",
    "\n",
    "# Plot the training and validation losses\n",
    "plt.plot(train_losses, label='Training loss')       # Plot the training loss curve\n",
    "plt.plot(validation_losses, label='Validation loss')  # Plot the validation loss curve\n",
    "plt.legend() \n",
    "plt.grid();"
   ]
  },
  {
   "cell_type": "markdown",
   "metadata": {},
   "source": [
    "## Testing your model\n",
    "Using the previously created `DataLoader` for the test set, compute the percentage of correct predictions using the highest probability prediction. \n",
    "\n",
    "If your accuracy is over 90%, great work, but see if you can push a bit further! \n",
    "If your accuracy is under 90%, you'll need to make improvements.\n",
    "Go back and check your model architecture, loss function, and optimizer to make sure they're appropriate for an image classification task."
   ]
  },
  {
   "cell_type": "code",
   "execution_count": 13,
   "metadata": {},
   "outputs": [
    {
     "name": "stdout",
     "output_type": "stream",
     "text": [
      "Testing loss: 0.0717   Test accuracy: 0.9784  \n"
     ]
    }
   ],
   "source": [
    "# Set the network in evaluation mode.\n",
    "# This is important because some layers, like BatchNorm and Dropout, behave differently during training and evaluation.\n",
    "net.eval()\n",
    "\n",
    "test_loss = 0.0\n",
    "accuracy = 0\n",
    "\n",
    "# Turning off the gradients when performing validation/testing.\n",
    "# This saves memory and speeds up the computation.\n",
    "# Gradients are not needed for testing, as we are not updating the model's parameters.\n",
    "with torch.no_grad():\n",
    "    for images, labels in test_loader:\n",
    "\n",
    "        images = images.to(device)\n",
    "        labels = labels.to(device)\n",
    "\n",
    "        # Forward pass for test data\n",
    "        output = net(images)\n",
    "\n",
    "        # Compute the test loss\n",
    "        test_loss += criterion(output, labels)\n",
    "\n",
    "        # Calculate the accuracy for this batch\n",
    "        top_prob, top_class = output.topk(1, dim=1)\n",
    "        predictions = top_class == labels.view(*top_class.shape)\n",
    "        accuracy += torch.mean(predictions.type(torch.FloatTensor))\n",
    "\n",
    "# Print the testing loss and accuracy\n",
    "print(\"Testing loss: {:.4f}  \".format(test_loss/len(test_loader)),\n",
    "      \"Test accuracy: {:.4f}  \".format(accuracy/len(test_loader)))\n"
   ]
  },
  {
   "cell_type": "markdown",
   "metadata": {},
   "source": [
    "## Improving your model\n",
    "\n",
    "Once your model is done training, try tweaking your hyperparameters and training again below to improve your accuracy on the test set!"
   ]
  },
  {
   "cell_type": "code",
   "execution_count": 14,
   "metadata": {},
   "outputs": [
    {
     "data": {
      "text/plain": [
       "ImprovedNet(\n",
       "  (Convolutional_layers): Sequential(\n",
       "    (0): Conv2d(1, 16, kernel_size=(3, 3), stride=(1, 1), padding=(1, 1))\n",
       "    (1): BatchNorm2d(16, eps=1e-05, momentum=0.1, affine=True, track_running_stats=True)\n",
       "    (2): ReLU()\n",
       "    (3): MaxPool2d(kernel_size=2, stride=2, padding=0, dilation=1, ceil_mode=False)\n",
       "    (4): Conv2d(16, 32, kernel_size=(3, 3), stride=(1, 1), padding=(1, 1))\n",
       "    (5): BatchNorm2d(32, eps=1e-05, momentum=0.1, affine=True, track_running_stats=True)\n",
       "    (6): ReLU()\n",
       "    (7): MaxPool2d(kernel_size=2, stride=2, padding=0, dilation=1, ceil_mode=False)\n",
       "  )\n",
       "  (Linear_layers): Sequential(\n",
       "    (0): Linear(in_features=1568, out_features=256, bias=True)\n",
       "    (1): ReLU()\n",
       "    (2): Dropout(p=0.5, inplace=False)\n",
       "    (3): Linear(in_features=256, out_features=128, bias=True)\n",
       "    (4): ReLU()\n",
       "    (5): Dropout(p=0.3, inplace=False)\n",
       "    (6): Linear(in_features=128, out_features=10, bias=True)\n",
       "  )\n",
       ")"
      ]
     },
     "execution_count": 14,
     "metadata": {},
     "output_type": "execute_result"
    }
   ],
   "source": [
    "# Improved model architecture with BatchNorm and Dropout\n",
    "class ImprovedNet(nn.Module):\n",
    "    def __init__(self):\n",
    "        super(ImprovedNet, self).__init__()\n",
    "        self.Convolutional_layers = nn.Sequential(\n",
    "            nn.Conv2d(in_channels=1, out_channels=16, kernel_size=3, padding=1, stride=1),\n",
    "            nn.BatchNorm2d(16),\n",
    "            nn.ReLU(),\n",
    "            nn.MaxPool2d(kernel_size=2, stride=2),\n",
    "            nn.Conv2d(in_channels=16, out_channels=32, kernel_size=3, padding=1, stride=1),\n",
    "            nn.BatchNorm2d(32),\n",
    "            nn.ReLU(),\n",
    "            nn.MaxPool2d(kernel_size=2, stride=2)\n",
    "        )\n",
    "\n",
    "        self.Linear_layers = nn.Sequential(\n",
    "            nn.Linear(32 * 7 * 7, 256),\n",
    "            nn.ReLU(),\n",
    "            nn.Dropout(0.5),\n",
    "            nn.Linear(256, 128),\n",
    "            nn.ReLU(),\n",
    "            nn.Dropout(0.3),\n",
    "            nn.Linear(128, 10)\n",
    "        )\n",
    "\n",
    "    def forward(self, x):\n",
    "        x = self.Convolutional_layers(x)\n",
    "        x = torch.flatten(x, 1)\n",
    "        x = self.Linear_layers(x)\n",
    "        return x\n",
    "\n",
    "# Instantiate the improved net\n",
    "net_tuned = ImprovedNet()\n",
    "net_tuned.to(device)"
   ]
  },
  {
   "cell_type": "code",
   "execution_count": 15,
   "metadata": {},
   "outputs": [],
   "source": [
    "# Loss function and optimizer\n",
    "criterion_tuned = nn.CrossEntropyLoss()\n",
    "optimizer_tuned = optim.Adam(net_tuned.parameters(), lr=0.001, weight_decay=1e-5)\n",
    "criterion_tuned.to(device)\n",
    "# Learning rate scheduler\n",
    "scheduler = optim.lr_scheduler.StepLR(optimizer_tuned, step_size=5, gamma=0.5)"
   ]
  },
  {
   "cell_type": "code",
   "execution_count": 16,
   "metadata": {},
   "outputs": [
    {
     "name": "stdout",
     "output_type": "stream",
     "text": [
      "Epoch: 1/10   Training loss: 0.2382   Validation loss: 0.0696   Validation accuracy: 0.9775  \n",
      "Epoch: 2/10   Training loss: 0.1003   Validation loss: 0.0552   Validation accuracy: 0.9845  \n",
      "Epoch: 3/10   Training loss: 0.0819   Validation loss: 0.0489   Validation accuracy: 0.9850  \n",
      "Epoch: 4/10   Training loss: 0.0659   Validation loss: 0.0440   Validation accuracy: 0.9875  \n",
      "Epoch: 5/10   Training loss: 0.0556   Validation loss: 0.0442   Validation accuracy: 0.9872  \n",
      "Epoch: 6/10   Training loss: 0.0526   Validation loss: 0.0403   Validation accuracy: 0.9892  \n",
      "Epoch: 7/10   Training loss: 0.0455   Validation loss: 0.0379   Validation accuracy: 0.9897  \n",
      "Epoch: 8/10   Training loss: 0.0428   Validation loss: 0.0385   Validation accuracy: 0.9898  \n",
      "Epoch: 9/10   Training loss: 0.0364   Validation loss: 0.0448   Validation accuracy: 0.9890  \n",
      "Epoch: 10/10   Training loss: 0.0337   Validation loss: 0.0402   Validation accuracy: 0.9902  \n"
     ]
    }
   ],
   "source": [
    "epochs = 10 # The total number of iterations\n",
    "\n",
    "train_losses_tuned = []\n",
    "validation_losses_tuned = []\n",
    "\n",
    "for epoch in range(epochs):\n",
    "    # prep net_tuned for training\n",
    "    net_tuned.train()\n",
    "    train_loss = 0.0\n",
    "\n",
    "    for idx, (images, labels) in enumerate(train_loader): \n",
    "\n",
    "        # Send these >>> To GPU\n",
    "        images = images.to(device)\n",
    "        labels = labels.to(device)\n",
    "\n",
    "        # Training pass\n",
    "        optimizer_tuned.zero_grad()\n",
    "\n",
    "        # Forward pass\n",
    "        output = net_tuned(images)\n",
    "        loss = criterion_tuned(output, labels)\n",
    "\n",
    "        #Backward pass\n",
    "        loss.backward()\n",
    "        optimizer_tuned.step()\n",
    "\n",
    "        train_loss += loss.item()\n",
    "        \n",
    "    \n",
    "    # prep net_tuned for evaluation\n",
    "    net_tuned.eval() \n",
    "    validation_loss = 0.0\n",
    "    accuracy = 0\n",
    "\n",
    "    # Turning off the gradients when performing validation.\n",
    "    # If we don't turn it off, we will comprise our net_tunedworks weight entirely\n",
    "    with torch.no_grad():\n",
    "        for images, labels in validation_loader:\n",
    "\n",
    "            images = images.to(device)\n",
    "            labels = labels.to(device)\n",
    "\n",
    "            output = net_tuned(images) \n",
    "            validation_loss += criterion_tuned(output, labels)\n",
    "\n",
    "            top_prob, top_class = output.topk(1, dim=1)\n",
    "            predictions = top_class == labels.view(*top_class.shape)\n",
    "            accuracy += torch.mean(predictions.type(torch.FloatTensor))\n",
    "\n",
    "    train_losses_tuned.append(train_loss/len(train_loader))\n",
    "    validation_losses_tuned.append(validation_loss/len(validation_loader))\n",
    "\n",
    "    print(\"Epoch: {}/{}  \".format(epoch+1, epochs),\n",
    "          \"Training loss: {:.4f}  \".format(train_loss/len(train_loader)),\n",
    "          \"Validation loss: {:.4f}  \".format(validation_loss/len(validation_loader)),\n",
    "          \"Validation accuracy: {:.4f}  \".format(accuracy/len(validation_loader)))\n",
    "    \n"
   ]
  },
  {
   "cell_type": "code",
   "execution_count": 19,
   "metadata": {},
   "outputs": [
    {
     "data": {
      "image/png": "[encoded data removed]",
      "text/plain": [
       "<Figure size 432x288 with 1 Axes>"
      ]
     },
     "metadata": {
      "needs_background": "light"
     },
     "output_type": "display_data"
    }
   ],
   "source": [
    "# Convert the training and validation losses to PyTorch tensors and move them to the CPU (if they were on the GPU)\n",
    "train_losses_tuned = torch.Tensor(train_losses_tuned).cpu()\n",
    "validation_losses_tuned = torch.Tensor(validation_losses_tuned).cpu()\n",
    "\n",
    "# Plot the training and validation losses\n",
    "plt.plot(train_losses_tuned, label='Training loss')       # Plot the training loss curve\n",
    "plt.plot(validation_losses_tuned, label='Validation loss')  # Plot the validation loss curve\n",
    "plt.legend() \n",
    "plt.grid();"
   ]
  },
  {
   "cell_type": "code",
   "execution_count": 20,
   "metadata": {},
   "outputs": [
    {
     "name": "stdout",
     "output_type": "stream",
     "text": [
      "Testing loss: 0.0298   Test accuracy: 0.9920  \n"
     ]
    }
   ],
   "source": [
    "net_tuned.eval() \n",
    "test_loss = 0.0\n",
    "accuracy = 0\n",
    "\n",
    "# Turning off the gradients when performing validation.\n",
    "# If we don't turn it off, we will comprise our networks weight entirely\n",
    "with torch.no_grad():\n",
    "    for images, labels in test_loader:\n",
    "\n",
    "        images = images.to(device)\n",
    "        labels = labels.to(device)\n",
    "\n",
    "        output = net_tuned(images)\n",
    "        test_loss += criterion_tuned(output, labels)\n",
    "\n",
    "        top_prob, top_class = output.topk(1, dim=1)\n",
    "        predictions = top_class == labels.view(*top_class.shape)\n",
    "        accuracy += torch.mean(predictions.type(torch.FloatTensor))\n",
    "\n",
    "print(\"Testing loss: {:.4f}  \".format(test_loss/len(test_loader)),\n",
    "      \"Test accuracy: {:.4f}  \".format(accuracy/len(test_loader)))"
   ]
  },
  {
   "cell_type": "markdown",
   "metadata": {},
   "source": [
    "## Saving your model\n",
    "Using `torch.save`, save your model for future loading."
   ]
  },
  {
   "cell_type": "code",
   "execution_count": 21,
   "metadata": {},
   "outputs": [],
   "source": [
    "torch.save(net.state_dict(),'handwritten_digit_classifier_with_PyTorch.pth')\n",
    "torch.save(net_tuned.state_dict(),'handwritten_digit_classfier_with_PyTorch_tuned.pth')"
   ]
  },
  {
   "cell_type": "code",
   "execution_count": null,
   "metadata": {},
   "outputs": [],
   "source": []
  }
 ],
 "metadata": {
  "kernelspec": {
   "display_name": "Python 3",
   "language": "python",
   "name": "python3"
  },
  "language_info": {
   "codemirror_mode": {
    "name": "ipython",
    "version": 3
   },
   "file_extension": ".py",
   "mimetype": "text/x-python",
   "name": "python",
   "nbconvert_exporter": "python",
   "pygments_lexer": "ipython3",
   "version": "3.7.6"
  }
 },
 "nbformat": 4,
 "nbformat_minor": 4
}
